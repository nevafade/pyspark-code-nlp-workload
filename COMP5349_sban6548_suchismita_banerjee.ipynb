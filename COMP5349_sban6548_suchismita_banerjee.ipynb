{
  "nbformat": 4,
  "nbformat_minor": 0,
  "metadata": {
    "colab": {
      "name": "COMP5349-sban6548-suchismita-banerjee.ipynb",
      "provenance": []
    },
    "kernelspec": {
      "name": "python3",
      "display_name": "Python 3"
    },
    "language_info": {
      "name": "python"
    }
  },
  "cells": [
    {
      "cell_type": "markdown",
      "source": [
        "# PySpark Instalation"
      ],
      "metadata": {
        "id": "07VSeKCjD7lB"
      }
    },
    {
      "cell_type": "markdown",
      "source": [
        "The action and functions are:\n",
        "1. Installing PySpark\n",
        "2. Importing nltk for stopwords\n",
        "3. importing string for punctuation\n",
        "4. Storage Mount\n",
        "5. Creating Spark session,Spark Context and Spart app('RAKE')\n",
        "6. Reading csv data and converting to RDD\n",
        "7. Identification of delimiters\n",
        "8. creating function for extracting candidate phrases from text\n",
        "9. creating function for calculating deg(w) and feq(w)"
      ],
      "metadata": {
        "id": "yr0HfJt2EJa2"
      }
    },
    {
      "cell_type": "code",
      "execution_count": 90,
      "metadata": {
        "colab": {
          "base_uri": "https://localhost:8080/"
        },
        "id": "VqT3QknEiUZX",
        "outputId": "d80b2016-7d28-4f6a-de96-7d88530fae09"
      },
      "outputs": [
        {
          "output_type": "stream",
          "name": "stdout",
          "text": [
            "Requirement already satisfied: pyspark in /usr/local/lib/python3.7/dist-packages (3.2.1)\n",
            "Requirement already satisfied: py4j==0.10.9.3 in /usr/local/lib/python3.7/dist-packages (from pyspark) (0.10.9.3)\n"
          ]
        }
      ],
      "source": [
        "!pip install pyspark"
      ]
    },
    {
      "cell_type": "code",
      "source": [
        "#creation of Spark session and Spark context\n",
        "from pyspark.sql import SparkSession\n",
        "spark = SparkSession.builder.appName(\"RAKE\").getOrCreate()\n",
        "sc = spark.sparkContext"
      ],
      "metadata": {
        "id": "is6B-vN4nV8M"
      },
      "execution_count": 91,
      "outputs": []
    },
    {
      "cell_type": "markdown",
      "source": [
        "# Downloading language packages"
      ],
      "metadata": {
        "id": "fsJ3M7GjxAcr"
      }
    },
    {
      "cell_type": "code",
      "source": [
        "#importing stopwords and punctuation from string and nltk\n",
        "import string\n",
        "import nltk\n",
        "nltk.download('stopwords')\n",
        "from nltk.corpus import stopwords\n",
        "stopwords = stopwords.words('english')"
      ],
      "metadata": {
        "colab": {
          "base_uri": "https://localhost:8080/"
        },
        "id": "0wqFCAYqjLgB",
        "outputId": "8cea18c0-7113-4264-b65a-48d641ead681"
      },
      "execution_count": 92,
      "outputs": [
        {
          "output_type": "stream",
          "name": "stdout",
          "text": [
            "[nltk_data] Downloading package stopwords to /root/nltk_data...\n",
            "[nltk_data]   Package stopwords is already up-to-date!\n"
          ]
        }
      ]
    },
    {
      "cell_type": "markdown",
      "source": [
        "Pouplating delimiters : Stopwords from 'nltk' and punctuations from 'string' have been treated as delimiters. In addition to delimiters declared in ntlk and string, I have added a few stopwords that are quite frequently used in the documents. I have also used the delimiter functionality to remove information that is does not qualify as candidate phrases like \n",
        "1. page numbers\n",
        "2. 'et' used for citations\n",
        "3. 'nan' identifiers for a filename with no relevent text"
      ],
      "metadata": {
        "id": "pPiysrffai55"
      }
    },
    {
      "cell_type": "code",
      "source": [
        "#declare delimiters used for extracting candidate phrases\n",
        "punctuationDelimiter = ['\\\\'+i for i in string.punctuation]\n",
        "stopwordDelimiter = ['\\\\b'+i+'\\\\b' for i in stopwords]\n",
        "stopwordDelimiter.append('\\\\bshall\\\\b')\n",
        "stopwordDelimiter.append('\\\\bpage \\d*\\\\b')\n",
        "stopwordDelimiter.append('\\\\bnan\\\\b')\n",
        "stopwordDelimiter.append('\\\\bet\\\\b')\n",
        "stopwordDelimiter += punctuationDelimiter"
      ],
      "metadata": {
        "id": "s0v4ei5P9oVt"
      },
      "execution_count": 93,
      "outputs": []
    },
    {
      "cell_type": "markdown",
      "source": [
        "# Mounting Storage"
      ],
      "metadata": {
        "id": "8ym8f_NIxtkt"
      }
    },
    {
      "cell_type": "code",
      "source": [
        "#mounting storage\n",
        "from google.colab import drive\n",
        "drive.mount('/content/drive')"
      ],
      "metadata": {
        "colab": {
          "base_uri": "https://localhost:8080/"
        },
        "id": "klC-mCRHlQLn",
        "outputId": "056b135d-8f1c-4416-a8da-7f5678f0b1db"
      },
      "execution_count": 94,
      "outputs": [
        {
          "output_type": "stream",
          "name": "stdout",
          "text": [
            "Drive already mounted at /content/drive; to attempt to forcibly remount, call drive.mount(\"/content/drive\", force_remount=True).\n"
          ]
        }
      ]
    },
    {
      "cell_type": "code",
      "source": [
        "!ls /content/drive/MyDrive/Colab\\ Notebooks/data\n",
        "#check for data\n",
        "#files are uploaded into the same folder as the jupytr file"
      ],
      "metadata": {
        "colab": {
          "base_uri": "https://localhost:8080/"
        },
        "id": "pp1r_jzjmk0a",
        "outputId": "abc81452-1a24-4ea5-8463-f7ad99880eb7"
      },
      "execution_count": 95,
      "outputs": [
        {
          "output_type": "stream",
          "name": "stdout",
          "text": [
            " Anti_assignment_CIC_g3.csv\n",
            " Governing_Law.csv\n",
            "'Label Report - Anti-assignment, CIC (Group 3).xlsx'\n",
            "'Label Report - Governing Law.xlsx'\n"
          ]
        }
      ]
    },
    {
      "cell_type": "markdown",
      "source": [
        "# Reading data from csv files"
      ],
      "metadata": {
        "id": "UxbWwhGMx_I1"
      }
    },
    {
      "cell_type": "markdown",
      "source": [
        "Function **toRDD** : this function focuses on extracting data from the csv files (government_law.csv and Anti_assignment_cic.csv) to RDDs that have the exact structure as the csv file. Hence if government_law.csv has two columns then the corresponding RDD will have only two columns, because Anti_assignment_cic.csv has 3 columns then so will the corresponding RDD. The header row has been removed from the RDD that is returned. Identification of data based on header is done manually using column numbers"
      ],
      "metadata": {
        "id": "8S9o_jyvZADM"
      }
    },
    {
      "cell_type": "code",
      "source": [
        "import csv\n",
        "#function for reading csv files\n",
        "def toRDD(filename):\n",
        "  csv_file = sc.textFile(filename).map(lambda line:line)\n",
        "  header = csv_file.first()\n",
        "  csv_file = csv_file.filter(lambda line: line != header)\n",
        "  csvRDDreader = csv.reader(csv_file.collect())\n",
        "  csvRDD = sc.parallelize(csvRDDreader)\n",
        "  return csvRDD"
      ],
      "metadata": {
        "id": "xYHl8--Vo6I1"
      },
      "execution_count": 96,
      "outputs": []
    },
    {
      "cell_type": "code",
      "source": [
        "inputGovernmentLaw = 'file:///content/drive/MyDrive/Colab\\ Notebooks/data/Governing_Law.csv'\n",
        "inputAntiAssignment = 'file:///content/drive/MyDrive/Colab\\ Notebooks/data/Anti_assignment_CIC_g3.csv'"
      ],
      "metadata": {
        "id": "alhSqXFLqcdq"
      },
      "execution_count": 97,
      "outputs": []
    },
    {
      "cell_type": "code",
      "source": [
        "#convert government law csv to rdd\n",
        "rddGovernmentLaw = toRDD(inputGovernmentLaw)\n",
        "rddGovernmentLaw.take(5)"
      ],
      "metadata": {
        "colab": {
          "base_uri": "https://localhost:8080/"
        },
        "id": "m6PWbhv62Rcw",
        "outputId": "5b62ab82-83eb-49ba-837b-775331ae777b"
      },
      "execution_count": 98,
      "outputs": [
        {
          "output_type": "execute_result",
          "data": {
            "text/plain": [
              "[['CybergyHoldingsInc_20140520_10-Q_EX-10.27_8605784_EX-10.27_Affiliate Agreement.pdf',\n",
              "  'This Agreement is accepted by Company in the State of Nevada and shall be governed by and construed in accordance with the laws thereof, which laws shall prevail in the event of any conflict. (Page 13)'],\n",
              " ['EuromediaHoldingsCorp_20070215_10SB12G_EX-10.B(01)_525118_EX-10.B(01)_Content License Agreement.pdf',\n",
              "  'This Agreement shall be governed by laws of the Province of Ontario and the federal laws of Canada applicable therein. (Page 9)  This Agreement is subject to all laws, regulations, license conditions and decisions of the Canadian Radio-television and Telecommunications Commission (‚ÄúCRTC‚Äù) municipal, provincial and federal governments or other authorities which are applicable to Rogers and/or Licensor, and which are now in force or hereafter adopted (‚ÄúApplicable Law‚Äù). (Page 11)'],\n",
              " ['FulucaiProductionsLtd_20131223_10-Q_EX-10.9_8368347_EX-10.9_Content License Agreement.pdf',\n",
              "  'All questions with respect to the construction of this Agreement, and the rights and liabilities of the Parties hereto, shall be governed by the laws of the State of Florida. (Page 6)'],\n",
              " ['GopageCorp_20140221_10-K_EX-10.1_8432966_EX-10.1_Content License Agreement.pdf',\n",
              "  'This Agreement shall be governed by and construed in accordance with the internal laws of the State of Nevada without giving effect to any choice or conflict of law provision or rule. (Page 16)'],\n",
              " ['IdeanomicsInc_20160330_10-K_EX-10.26_9512211_EX-10.26_Content License Agreement.pdf',\n",
              "  'This Agreement shall be governed by and construed in all respects in accordance with the laws of the State of New York, without giving effect to any conflicts of laws principles. (Page 13)']]"
            ]
          },
          "metadata": {},
          "execution_count": 98
        }
      ]
    },
    {
      "cell_type": "code",
      "source": [
        "#convert Anti Assignment cic csv to rdd \n",
        "rddAntiAssignment = toRDD(inputAntiAssignment)\n",
        "rddAntiAssignment.take(3)"
      ],
      "metadata": {
        "colab": {
          "base_uri": "https://localhost:8080/"
        },
        "id": "5Bp2Lx0FudfG",
        "outputId": "1072588c-88ff-4e69-d08d-4818f4eeda0c"
      },
      "execution_count": 99,
      "outputs": [
        {
          "output_type": "execute_result",
          "data": {
            "text/plain": [
              "[['CybergyHoldingsInc_20140520_10-Q_EX-10.27_8605784_EX-10.27_Affiliate Agreement.pdf',\n",
              "  '',\n",
              "  'MA may not assign, sell, lease or otherwise transfer in whole or in party any of the rights granted pursuant to this Agreement without prior written approval of Company. (Page 12)'],\n",
              " ['EuromediaHoldingsCorp_20070215_10SB12G_EX-10.B(01)_525118_EX-10.B(01)_Content License Agreement.pdf',\n",
              "  '',\n",
              "  'This Agreement may not be assigned, sold or transferred without the prior written consent of the other party. (Page 9)  Notwithstanding the foregoing, Rogers may, without consent, assign its rights and obligations under this Agreement in whole or in part to: (i) a person that directly or indirectly controls, is controlled by or is under common control with Rogers; or (ii) a purchaser of all or substantially all of the assets used in connection with the ROD Service. A change of control of Rogers shall not be considered an assignment of this Agreement. (Page 9)  Any purported assignment, sale, or transfer in contravention of this Section shall be null and void. (Page 9)'],\n",
              " ['GopageCorp_20140221_10-K_EX-10.1_8432966_EX-10.1_Content License Agreement.pdf',\n",
              "  \"For purposes of the preceding sentence, and without limiting its generality, any merger, consolidation or reorganization involving Licensee (regardless of whether Licensee is a surviving or disappearing entity) will be deemed to be a transfer of rights, obligations or performance under this Agreement for which Licensor's prior written consent is required. (Page 15)\",\n",
              "  \"Licensee shall not assign or otherwise transfer any of its rights, or delegate or otherwise transfer any of its obligations or performance, under this Agreement, in each case whether voluntarily, involuntarily, by operation of law or otherwise, without Licensor's prior written consent. (Page 15)  Any purported assignment, delegation or transfer in violation of this Section 11.7 is void from the outset and shall be of no force or effect. (Page 15)\"]]"
            ]
          },
          "metadata": {},
          "execution_count": 99
        }
      ]
    },
    {
      "cell_type": "code",
      "source": [
        "#extract RDD for Anti Assignment Corpus\n",
        "aaRDD = rddAntiAssignment.map(lambda x:(x[0],x[2]))\n",
        "aaRDD.take(3)"
      ],
      "metadata": {
        "id": "c_BirITc7Oc2",
        "colab": {
          "base_uri": "https://localhost:8080/"
        },
        "outputId": "539e1942-2dc7-4af7-82ef-a77409c4bd8b"
      },
      "execution_count": 100,
      "outputs": [
        {
          "output_type": "execute_result",
          "data": {
            "text/plain": [
              "[('CybergyHoldingsInc_20140520_10-Q_EX-10.27_8605784_EX-10.27_Affiliate Agreement.pdf',\n",
              "  'MA may not assign, sell, lease or otherwise transfer in whole or in party any of the rights granted pursuant to this Agreement without prior written approval of Company. (Page 12)'),\n",
              " ('EuromediaHoldingsCorp_20070215_10SB12G_EX-10.B(01)_525118_EX-10.B(01)_Content License Agreement.pdf',\n",
              "  'This Agreement may not be assigned, sold or transferred without the prior written consent of the other party. (Page 9)  Notwithstanding the foregoing, Rogers may, without consent, assign its rights and obligations under this Agreement in whole or in part to: (i) a person that directly or indirectly controls, is controlled by or is under common control with Rogers; or (ii) a purchaser of all or substantially all of the assets used in connection with the ROD Service. A change of control of Rogers shall not be considered an assignment of this Agreement. (Page 9)  Any purported assignment, sale, or transfer in contravention of this Section shall be null and void. (Page 9)'),\n",
              " ('GopageCorp_20140221_10-K_EX-10.1_8432966_EX-10.1_Content License Agreement.pdf',\n",
              "  \"Licensee shall not assign or otherwise transfer any of its rights, or delegate or otherwise transfer any of its obligations or performance, under this Agreement, in each case whether voluntarily, involuntarily, by operation of law or otherwise, without Licensor's prior written consent. (Page 15)  Any purported assignment, delegation or transfer in violation of this Section 11.7 is void from the outset and shall be of no force or effect. (Page 15)\")]"
            ]
          },
          "metadata": {},
          "execution_count": 100
        }
      ]
    },
    {
      "cell_type": "code",
      "source": [
        "#extract RDD for change of control Corpus\n",
        "ccRDD = rddAntiAssignment.map(lambda x:(x[0],x[1]))\n",
        "ccRDD.take(3)"
      ],
      "metadata": {
        "id": "p04EFUqY7u3g",
        "colab": {
          "base_uri": "https://localhost:8080/"
        },
        "outputId": "8df594d9-fff2-44d3-abda-d7fc65babbd5"
      },
      "execution_count": 101,
      "outputs": [
        {
          "output_type": "execute_result",
          "data": {
            "text/plain": [
              "[('CybergyHoldingsInc_20140520_10-Q_EX-10.27_8605784_EX-10.27_Affiliate Agreement.pdf',\n",
              "  ''),\n",
              " ('EuromediaHoldingsCorp_20070215_10SB12G_EX-10.B(01)_525118_EX-10.B(01)_Content License Agreement.pdf',\n",
              "  ''),\n",
              " ('GopageCorp_20140221_10-K_EX-10.1_8432966_EX-10.1_Content License Agreement.pdf',\n",
              "  \"For purposes of the preceding sentence, and without limiting its generality, any merger, consolidation or reorganization involving Licensee (regardless of whether Licensee is a surviving or disappearing entity) will be deemed to be a transfer of rights, obligations or performance under this Agreement for which Licensor's prior written consent is required. (Page 15)\")]"
            ]
          },
          "metadata": {},
          "execution_count": 101
        }
      ]
    },
    {
      "cell_type": "markdown",
      "source": [
        "# Common functions used for both workloads"
      ],
      "metadata": {
        "id": "k0cc5iJZyu4b"
      }
    },
    {
      "cell_type": "markdown",
      "source": [
        "Function **splitPhrase**: This function succesfully extracts and returns candidate phrases for input text.It returns an array of phrases after filtering out the following return values that may tamper with final results: \n",
        "1. phrases with word count more than 4\n",
        "2. null strings\n",
        "3. excess padding"
      ],
      "metadata": {
        "id": "SqEhp4FEbn7P"
      }
    },
    {
      "cell_type": "code",
      "source": [
        "from re import split,sub\n",
        "#function for extracting candidate phrases\n",
        "def splitPhrase(string):\n",
        "    pattern = r'|'.join(stopwordDelimiter)\n",
        "    return list(filter(lambda x: x and len(x.split()) < 5,[sub('\\s+',' ',s.strip()) for s in split(pattern, string)]))"
      ],
      "metadata": {
        "id": "Y6GVAPMG9Rzf"
      },
      "execution_count": 102,
      "outputs": []
    },
    {
      "cell_type": "markdown",
      "source": [
        "function **keywordMap** : this function created to calculate the degree and frequency of every word that has occured in any of the candidate phrases. It takes the candidate phrase as input and returns a list of words with the value the the phrase adds to the words degree(w) and frequency(w). Each element of the array returned is in the format (word,(degree(w),frequency(w))) and the length of the array contains one element for every word that used in the candidate phrase. when reduce is applied on the resultant array then we acheive the final score of each word that can be used to calculate the score of the phrases."
      ],
      "metadata": {
        "id": "2oJcLQu8SSk-"
      }
    },
    {
      "cell_type": "code",
      "source": [
        "#function for generating degree and frequency of each word in candidate phrases\n",
        "def keywordMap(phrase):\n",
        "  words = phrase.split(\" \")\n",
        "  if len(words) == 1:\n",
        "    return [(w,(1,1)) for w in words if w!='']\n",
        "  else:\n",
        "    return [(w,(len(words),1)) for w in words if w!='']"
      ],
      "metadata": {
        "id": "J2niFhBkgpnu"
      },
      "execution_count": 103,
      "outputs": []
    },
    {
      "cell_type": "markdown",
      "source": [
        "# Workload One - Candidate Phrase Identification"
      ],
      "metadata": {
        "id": "bQog8ZTO-g82"
      }
    },
    {
      "cell_type": "markdown",
      "source": [
        "Three code blocks below, \n",
        "1. filters out all null and empty values in the RDD\n",
        "2. then converts all test to lower case\n",
        "3. then split the text into array of candidate phrases using flat map"
      ],
      "metadata": {
        "id": "G8A7hfqpzLYF"
      }
    },
    {
      "cell_type": "code",
      "source": [
        "#function 1\n",
        "#extracting candidate phrases for Government law corpus\n",
        "govLawDocList = rddGovernmentLaw.filter(lambda x:x[1])\\\n",
        "                            .map(lambda x:(x[0],x[1].lower()))\\\n",
        "                            .flatMapValues(splitPhrase)\n",
        "govLawDocList.take(10)"
      ],
      "metadata": {
        "id": "NO3EMIAVxQA9",
        "colab": {
          "base_uri": "https://localhost:8080/"
        },
        "outputId": "efc7b997-507b-4ea0-dadd-dfa2176efbde"
      },
      "execution_count": 104,
      "outputs": [
        {
          "output_type": "execute_result",
          "data": {
            "text/plain": [
              "[('CybergyHoldingsInc_20140520_10-Q_EX-10.27_8605784_EX-10.27_Affiliate Agreement.pdf',\n",
              "  'agreement'),\n",
              " ('CybergyHoldingsInc_20140520_10-Q_EX-10.27_8605784_EX-10.27_Affiliate Agreement.pdf',\n",
              "  'accepted'),\n",
              " ('CybergyHoldingsInc_20140520_10-Q_EX-10.27_8605784_EX-10.27_Affiliate Agreement.pdf',\n",
              "  'company'),\n",
              " ('CybergyHoldingsInc_20140520_10-Q_EX-10.27_8605784_EX-10.27_Affiliate Agreement.pdf',\n",
              "  'state'),\n",
              " ('CybergyHoldingsInc_20140520_10-Q_EX-10.27_8605784_EX-10.27_Affiliate Agreement.pdf',\n",
              "  'nevada'),\n",
              " ('CybergyHoldingsInc_20140520_10-Q_EX-10.27_8605784_EX-10.27_Affiliate Agreement.pdf',\n",
              "  'governed'),\n",
              " ('CybergyHoldingsInc_20140520_10-Q_EX-10.27_8605784_EX-10.27_Affiliate Agreement.pdf',\n",
              "  'construed'),\n",
              " ('CybergyHoldingsInc_20140520_10-Q_EX-10.27_8605784_EX-10.27_Affiliate Agreement.pdf',\n",
              "  'accordance'),\n",
              " ('CybergyHoldingsInc_20140520_10-Q_EX-10.27_8605784_EX-10.27_Affiliate Agreement.pdf',\n",
              "  'laws thereof'),\n",
              " ('CybergyHoldingsInc_20140520_10-Q_EX-10.27_8605784_EX-10.27_Affiliate Agreement.pdf',\n",
              "  'laws')]"
            ]
          },
          "metadata": {},
          "execution_count": 104
        }
      ]
    },
    {
      "cell_type": "code",
      "source": [
        "#extracting candidate phrases for Anti assignment corpus\n",
        "aaDocList = aaRDD.filter(lambda x:x[1])\\\n",
        "                      .map(lambda x:(x[0],x[1].lower()))\\\n",
        "                      .flatMapValues(splitPhrase)\n",
        "aaDocList.take(10)"
      ],
      "metadata": {
        "colab": {
          "base_uri": "https://localhost:8080/"
        },
        "id": "3uRAYQfW8Q6Z",
        "outputId": "15ddbdfe-14c8-426d-837c-81c7162c7da5"
      },
      "execution_count": 105,
      "outputs": [
        {
          "output_type": "execute_result",
          "data": {
            "text/plain": [
              "[('CybergyHoldingsInc_20140520_10-Q_EX-10.27_8605784_EX-10.27_Affiliate Agreement.pdf',\n",
              "  'may'),\n",
              " ('CybergyHoldingsInc_20140520_10-Q_EX-10.27_8605784_EX-10.27_Affiliate Agreement.pdf',\n",
              "  'assign'),\n",
              " ('CybergyHoldingsInc_20140520_10-Q_EX-10.27_8605784_EX-10.27_Affiliate Agreement.pdf',\n",
              "  'sell'),\n",
              " ('CybergyHoldingsInc_20140520_10-Q_EX-10.27_8605784_EX-10.27_Affiliate Agreement.pdf',\n",
              "  'lease'),\n",
              " ('CybergyHoldingsInc_20140520_10-Q_EX-10.27_8605784_EX-10.27_Affiliate Agreement.pdf',\n",
              "  'otherwise transfer'),\n",
              " ('CybergyHoldingsInc_20140520_10-Q_EX-10.27_8605784_EX-10.27_Affiliate Agreement.pdf',\n",
              "  'whole'),\n",
              " ('CybergyHoldingsInc_20140520_10-Q_EX-10.27_8605784_EX-10.27_Affiliate Agreement.pdf',\n",
              "  'party'),\n",
              " ('CybergyHoldingsInc_20140520_10-Q_EX-10.27_8605784_EX-10.27_Affiliate Agreement.pdf',\n",
              "  'rights granted pursuant'),\n",
              " ('CybergyHoldingsInc_20140520_10-Q_EX-10.27_8605784_EX-10.27_Affiliate Agreement.pdf',\n",
              "  'company'),\n",
              " ('EuromediaHoldingsCorp_20070215_10SB12G_EX-10.B(01)_525118_EX-10.B(01)_Content License Agreement.pdf',\n",
              "  'agreement may')]"
            ]
          },
          "metadata": {},
          "execution_count": 105
        }
      ]
    },
    {
      "cell_type": "code",
      "source": [
        "#extracting candidate phrases for Change of control corpus\n",
        "ccDocList = ccRDD.filter(lambda x:x[1])\\\n",
        "                    .map(lambda x:(x[0],x[1].lower()))\\\n",
        "                    .flatMapValues(splitPhrase)\n",
        "ccDocList.take(10)"
      ],
      "metadata": {
        "colab": {
          "base_uri": "https://localhost:8080/"
        },
        "id": "8f57-6At8n8y",
        "outputId": "bc3d9fff-e614-4240-cea9-901c01ad09b5"
      },
      "execution_count": 106,
      "outputs": [
        {
          "output_type": "execute_result",
          "data": {
            "text/plain": [
              "[('GopageCorp_20140221_10-K_EX-10.1_8432966_EX-10.1_Content License Agreement.pdf',\n",
              "  'purposes'),\n",
              " ('GopageCorp_20140221_10-K_EX-10.1_8432966_EX-10.1_Content License Agreement.pdf',\n",
              "  'preceding sentence'),\n",
              " ('GopageCorp_20140221_10-K_EX-10.1_8432966_EX-10.1_Content License Agreement.pdf',\n",
              "  'without limiting'),\n",
              " ('GopageCorp_20140221_10-K_EX-10.1_8432966_EX-10.1_Content License Agreement.pdf',\n",
              "  'generality'),\n",
              " ('GopageCorp_20140221_10-K_EX-10.1_8432966_EX-10.1_Content License Agreement.pdf',\n",
              "  'merger'),\n",
              " ('GopageCorp_20140221_10-K_EX-10.1_8432966_EX-10.1_Content License Agreement.pdf',\n",
              "  'consolidation'),\n",
              " ('GopageCorp_20140221_10-K_EX-10.1_8432966_EX-10.1_Content License Agreement.pdf',\n",
              "  'reorganization involving licensee'),\n",
              " ('GopageCorp_20140221_10-K_EX-10.1_8432966_EX-10.1_Content License Agreement.pdf',\n",
              "  'regardless'),\n",
              " ('GopageCorp_20140221_10-K_EX-10.1_8432966_EX-10.1_Content License Agreement.pdf',\n",
              "  'whether licensee'),\n",
              " ('GopageCorp_20140221_10-K_EX-10.1_8432966_EX-10.1_Content License Agreement.pdf',\n",
              "  'surviving')]"
            ]
          },
          "metadata": {},
          "execution_count": 106
        }
      ]
    },
    {
      "cell_type": "code",
      "source": [
        "#group candidate phrases by filename\n",
        "docList = govLawDocList.groupByKey()\n",
        "docList.take(3)"
      ],
      "metadata": {
        "colab": {
          "base_uri": "https://localhost:8080/"
        },
        "id": "ajtOWlIBWjmC",
        "outputId": "da71f4d6-9cf5-49da-8680-96b9ea34ad92"
      },
      "execution_count": 107,
      "outputs": [
        {
          "output_type": "execute_result",
          "data": {
            "text/plain": [
              "[('FulucaiProductionsLtd_20131223_10-Q_EX-10.9_8368347_EX-10.9_Content License Agreement.pdf',\n",
              "  <pyspark.resultiterable.ResultIterable at 0x7ff6bd744fd0>),\n",
              " ('IdeanomicsInc_20160330_10-K_EX-10.26_9512211_EX-10.26_Content License Agreement.pdf',\n",
              "  <pyspark.resultiterable.ResultIterable at 0x7ff6bd7c6290>),\n",
              " ('DeltathreeInc_19991102_S-1A_EX-10.19_6227850_EX-10.19_Co-Branding Agreement_ Service Agreement.pdf',\n",
              "  <pyspark.resultiterable.ResultIterable at 0x7ff6bec23a90>)]"
            ]
          },
          "metadata": {},
          "execution_count": 107
        }
      ]
    },
    {
      "cell_type": "code",
      "source": [
        "#group candidate phrases by filename\n",
        "docListAa = aaDocList.groupByKey()\n",
        "docListAa.take(3)"
      ],
      "metadata": {
        "colab": {
          "base_uri": "https://localhost:8080/"
        },
        "id": "zZ4jABil_tT5",
        "outputId": "4a7efc72-474d-4988-cf0f-d0a27c97d8b6"
      },
      "execution_count": 108,
      "outputs": [
        {
          "output_type": "execute_result",
          "data": {
            "text/plain": [
              "[('IdeanomicsInc_20160330_10-K_EX-10.26_9512211_EX-10.26_Content License Agreement.pdf',\n",
              "  <pyspark.resultiterable.ResultIterable at 0x7ff6bd716e10>),\n",
              " ('DeltathreeInc_19991102_S-1A_EX-10.19_6227850_EX-10.19_Co-Branding Agreement_ Service Agreement.pdf',\n",
              "  <pyspark.resultiterable.ResultIterable at 0x7ff6bd71ecd0>),\n",
              " ('ConformisInc_20191101_10-Q_EX-10.6_11861402_EX-10.6_Development Agreement.pdf',\n",
              "  <pyspark.resultiterable.ResultIterable at 0x7ff6bec29cd0>)]"
            ]
          },
          "metadata": {},
          "execution_count": 108
        }
      ]
    },
    {
      "cell_type": "code",
      "source": [
        "#group candidate phrases by filename\n",
        "docListCc = ccDocList.groupByKey()\n",
        "docListCc.take(3)"
      ],
      "metadata": {
        "colab": {
          "base_uri": "https://localhost:8080/"
        },
        "id": "-sTFR9k4BWYT",
        "outputId": "98edcd36-3382-48c2-e0e5-61f5120e8c70"
      },
      "execution_count": 109,
      "outputs": [
        {
          "output_type": "execute_result",
          "data": {
            "text/plain": [
              "[('DeltathreeInc_19991102_S-1A_EX-10.19_6227850_EX-10.19_Co-Branding Agreement_ Service Agreement.pdf',\n",
              "  <pyspark.resultiterable.ResultIterable at 0x7ff6bd764290>),\n",
              " ('ConformisInc_20191101_10-Q_EX-10.6_11861402_EX-10.6_Development Agreement.pdf',\n",
              "  <pyspark.resultiterable.ResultIterable at 0x7ff6bf107110>),\n",
              " ('EtonPharmaceuticalsInc_20191114_10-Q_EX-10.1_11893941_EX-10.1_Development Agreement.pdf',\n",
              "  <pyspark.resultiterable.ResultIterable at 0x7ff6bec09d10>)]"
            ]
          },
          "metadata": {},
          "execution_count": 109
        }
      ]
    },
    {
      "cell_type": "markdown",
      "source": [
        "# Workload One - Word Score Calculation"
      ],
      "metadata": {
        "id": "tOKG7_fwze7N"
      }
    },
    {
      "cell_type": "markdown",
      "source": [
        "The 3 code blocks below,\n",
        "1. calculate deg(w) and feq(w) for all words used in candidate phrases\n",
        "2. rearrange elements of tuple from (file,(word,(deg,feq))) to ((file,word),(deg,feq))\n",
        "3. use reduce function to calculate final deg(w) and feq(w) for all words for each file\n",
        "4. rearrange elements of tuple from ((file,word),(deg,feq)) to (file,(word,(deg,feq)))\n",
        "5. calculate deg(w)/feq(w) for all words for each file name\n",
        "6. group based on filename"
      ],
      "metadata": {
        "id": "wNgKE_cY3iLq"
      }
    },
    {
      "cell_type": "code",
      "source": [
        "#group word score by filename\n",
        "keywords = govLawDocList.flatMapValues(keywordMap)\\\n",
        "                  .map(lambda x:((x[0],x[1][0]),x[1][1]))\\\n",
        "                  .reduceByKey(lambda x,y:(x[0]+y[0],x[1]+y[1]))\\\n",
        "                  .map(lambda x:(x[0][0],(x[0][1],x[1])))\\\n",
        "                  .map(lambda x:(x[0],(x[1][0],x[1][1][0]/x[1][1][0]))).groupByKey()\n",
        "keywords.take(50)"
      ],
      "metadata": {
        "colab": {
          "base_uri": "https://localhost:8080/"
        },
        "id": "_FF5R6CUaVpi",
        "outputId": "82c812c4-c3aa-4030-ebf0-ca6b62054bbc"
      },
      "execution_count": 110,
      "outputs": [
        {
          "output_type": "execute_result",
          "data": {
            "text/plain": [
              "[('FulucaiProductionsLtd_20131223_10-Q_EX-10.9_8368347_EX-10.9_Content License Agreement.pdf',\n",
              "  <pyspark.resultiterable.ResultIterable at 0x7ff6bec0db90>),\n",
              " ('IdeanomicsInc_20160330_10-K_EX-10.26_9512211_EX-10.26_Content License Agreement.pdf',\n",
              "  <pyspark.resultiterable.ResultIterable at 0x7ff6bf105e50>),\n",
              " ('DeltathreeInc_19991102_S-1A_EX-10.19_6227850_EX-10.19_Co-Branding Agreement_ Service Agreement.pdf',\n",
              "  <pyspark.resultiterable.ResultIterable at 0x7ff6bf1073d0>),\n",
              " ('ConformisInc_20191101_10-Q_EX-10.6_11861402_EX-10.6_Development Agreement.pdf',\n",
              "  <pyspark.resultiterable.ResultIterable at 0x7ff6bd7546d0>),\n",
              " ('EtonPharmaceuticalsInc_20191114_10-Q_EX-10.1_11893941_EX-10.1_Development Agreement.pdf',\n",
              "  <pyspark.resultiterable.ResultIterable at 0x7ff6bec28f50>),\n",
              " ('FuelcellEnergyInc_20191106_8-K_EX-10.1_11868007_EX-10.1_Development Agreement.pdf',\n",
              "  <pyspark.resultiterable.ResultIterable at 0x7ff6bec14050>),\n",
              " ('ImineCorp_20180725_S-1_EX-10.5_11275970_EX-10.5_Distributor Agreement.pdf',\n",
              "  <pyspark.resultiterable.ResultIterable at 0x7ff6bec14490>),\n",
              " ('InnerscopeHearingTechnologiesInc_20181109_8-K_EX-10.6_11419704_EX-10.6_Distributor Agreement.pdf',\n",
              "  <pyspark.resultiterable.ResultIterable at 0x7ff6bd754410>),\n",
              " ('WaterNowInc_20191120_10-Q_EX-10.12_11900227_EX-10.12_Distributor Agreement.pdf',\n",
              "  <pyspark.resultiterable.ResultIterable at 0x7ff6bec14a90>),\n",
              " ('EcoScienceSolutionsInc_20171117_8-K_EX-10.1_10956472_EX-10.1_Endorsement Agreement.pdf',\n",
              "  <pyspark.resultiterable.ResultIterable at 0x7ff6bec14ed0>),\n",
              " ('NakedBrandGroupInc_20150731_POS AM (on S-1)_EX-10.75_9196027_EX-10.75_Endorsement Agreement.pdf',\n",
              "  <pyspark.resultiterable.ResultIterable at 0x7ff6bec26410>),\n",
              " ('SimplicityEsportsGamingCompany_20181130_8-K_EX-10.1_11444071_EX-10.1_Franchise Agreement.pdf',\n",
              "  <pyspark.resultiterable.ResultIterable at 0x7ff6bec26810>),\n",
              " ('PareteumCorp_20081001_8-K_EX-99.1_2654808_EX-99.1_Hosting Agreement.pdf',\n",
              "  <pyspark.resultiterable.ResultIterable at 0x7ff6bec26d50>),\n",
              " ('VitalibisInc_20180316_8-K_EX-10.2_11100168_EX-10.2_Hosting Agreement.pdf',\n",
              "  <pyspark.resultiterable.ResultIterable at 0x7ff6bec11090>),\n",
              " ('QuantumGroupIncFl_20090120_8-K_EX-99.2_3672910_EX-99.2_Hosting Agreement.pdf',\n",
              "  <pyspark.resultiterable.ResultIterable at 0x7ff6bec113d0>),\n",
              " ('GarrettMotionInc_20181001_8-K_EX-2.4_11364532_EX-2.4_Intellectual Property Agreement.pdf',\n",
              "  <pyspark.resultiterable.ResultIterable at 0x7ff6bec0de10>),\n",
              " ('RareElementResourcesLtd_20171019_SC 13D_EX-99.4_10897534_EX-99.4_Intellectual Property Agreement.pdf',\n",
              "  <pyspark.resultiterable.ResultIterable at 0x7ff6bec11cd0>),\n",
              " ('ArtaraTherapeuticsInc_20200110_8-K_EX-10.5_11943350_EX-10.5_License Agreement.pdf',\n",
              "  <pyspark.resultiterable.ResultIterable at 0x7ff6bec11fd0>),\n",
              " ('InmodeLtd_20190729_F-1A_EX-10.9_11743243_EX-10.9_Manufacturing Agreement.pdf',\n",
              "  <pyspark.resultiterable.ResultIterable at 0x7ff6bec101d0>),\n",
              " ('NeuroboPharmaceuticalsInc_20190903_S-4_EX-10.36_11802165_EX-10.36_Manufacturing Agreement_ Supply Agreement.pdf',\n",
              "  <pyspark.resultiterable.ResultIterable at 0x7ff6bec10710>),\n",
              " ('KitovPharmaLtd_20190326_20-F_EX-4.15_11584449_EX-4.15_Manufacturing Agreement.pdf',\n",
              "  <pyspark.resultiterable.ResultIterable at 0x7ff6bec10d50>),\n",
              " ('CcRealEstateIncomeFundadv_20181205_POS 8C_EX-99.(H)(3)_11447739_EX-99.(H)(3)_Marketing Agreement.pdf',\n",
              "  <pyspark.resultiterable.ResultIterable at 0x7ff6bec0f0d0>),\n",
              " ('EmmisCommunicationsCorp_20191125_8-K_EX-10.6_11906433_EX-10.6_Marketing Agreement.pdf',\n",
              "  <pyspark.resultiterable.ResultIterable at 0x7ff6bec0f350>),\n",
              " ('TodosMedicalLtd_20190328_20-F_EX-4.10_11587157_EX-4.10_Marketing Agreement_ Reseller Agreement.pdf',\n",
              "  <pyspark.resultiterable.ResultIterable at 0x7ff6bec0f610>),\n",
              " ('VertexEnergyInc_20200113_8-K_EX-10.1_11943624_EX-10.1_Marketing Agreement.pdf',\n",
              "  <pyspark.resultiterable.ResultIterable at 0x7ff6bec0f8d0>),\n",
              " ('XpresspaGroupInc_20190401_10-K_EX-10.28_11599457_EX-10.28_Marketing Agreement.pdf',\n",
              "  <pyspark.resultiterable.ResultIterable at 0x7ff6bec0fc50>),\n",
              " ('ExactSciencesCorp_20180822_8-K_EX-10.1_11331629_EX-10.1_Promotion Agreement.pdf',\n",
              "  <pyspark.resultiterable.ResultIterable at 0x7ff6bec0fe90>),\n",
              " ('HealthcareIntegratedTechnologiesInc_20190812_8-K_EX-10.1_11776966_EX-10.1_Reseller Agreement.pdf',\n",
              "  <pyspark.resultiterable.ResultIterable at 0x7ff6bd4ef2d0>),\n",
              " ('GpaqAcquisitionHoldingsInc_20200123_S-4A_EX-10.8_11951679_EX-10.8_Service Agreement.pdf',\n",
              "  <pyspark.resultiterable.ResultIterable at 0x7ff6bd4efb50>),\n",
              " ('IntegrityFunds_20200121_485BPOS_EX-99.E UNDR CONTR_11948727_EX-99.E UNDR CONTR_Service Agreement.pdf',\n",
              "  <pyspark.resultiterable.ResultIterable at 0x7ff6bd4efe90>),\n",
              " ('VerizonAbsLlc_20200123_8-K_EX-10.4_11952335_EX-10.4_Service Agreement.pdf',\n",
              "  <pyspark.resultiterable.ResultIterable at 0x7ff6bd4f7090>),\n",
              " ('EcoScienceSolutionsInc_20180406_8-K_EX-10.1_11135398_EX-10.1_Sponsorship Agreement.pdf',\n",
              "  <pyspark.resultiterable.ResultIterable at 0x7ff6bf107f90>),\n",
              " ('AgapeAtpCorp_20191202_10-KA_EX-10.1_11911128_EX-10.1_Supply Agreement.pdf',\n",
              "  <pyspark.resultiterable.ResultIterable at 0x7ff6bd4f7ad0>),\n",
              " ('FreezeTagInc_20180411_8-K_EX-10.1_11139603_EX-10.1_Sponsorship Agreement.pdf',\n",
              "  <pyspark.resultiterable.ResultIterable at 0x7ff6bd4f7d10>),\n",
              " ('LohaCompanyltd_20191209_F-1_EX-10.16_11917878_EX-10.16_Supply Agreement.pdf',\n",
              "  <pyspark.resultiterable.ResultIterable at 0x7ff6bd4c60d0>),\n",
              " ('ReynoldsConsumerProductsInc_20191115_S-1_EX-10.18_11896469_EX-10.18_Supply Agreement.pdf',\n",
              "  <pyspark.resultiterable.ResultIterable at 0x7ff6bd4c6410>),\n",
              " ('WestPharmaceuticalServicesInc_20200116_8-K_EX-10.1_11947529_EX-10.1_Supply Agreement.pdf',\n",
              "  <pyspark.resultiterable.ResultIterable at 0x7ff6bd4c6a10>),\n",
              " ('HertzGroupRealtyTrustInc_20190920_S-11A_EX-10.8_11816941_EX-10.8_Trademark License Agreement.pdf',\n",
              "  <pyspark.resultiterable.ResultIterable at 0x7ff6bd500650>),\n",
              " ('ArconicRolledProductsCorp_20191217_10-12B_EX-2.7_11923804_EX-2.7_Trademark License Agreement.pdf',\n",
              "  <pyspark.resultiterable.ResultIterable at 0x7ff6bd500ad0>),\n",
              " ('MorganStanleyDirectLendingFund_20191119_10-12GA_EX-10.5_11898508_EX-10.5_Trademark License Agreement.pdf',\n",
              "  <pyspark.resultiterable.ResultIterable at 0x7ff6bd500e10>),\n",
              " ('PalmerSquareCapitalBdcInc_20200116_10-12GA_EX-10.6_11949289_EX-10.6_Trademark License Agreement.pdf',\n",
              "  <pyspark.resultiterable.ResultIterable at 0x7ff6bd4fa0d0>),\n",
              " ('TcPipelinesLp_20160226_10-K_EX-99.12_9454048_EX-99.12_Transportation Agreement.pdf',\n",
              "  <pyspark.resultiterable.ResultIterable at 0x7ff6bd4fa310>),\n",
              " ('AudibleInc_20001113_10-Q_EX-10.32_2599586_EX-10.32_Co-Branding Agreement_ Marketing Agreement_ Investment Distribution Agreement.pdf',\n",
              "  <pyspark.resultiterable.ResultIterable at 0x7ff6bd4fa5d0>),\n",
              " ('EmbarkComInc_19991008_S-1A_EX-10.10_6487661_EX-10.10_Co-Branding Agreement.pdf',\n",
              "  <pyspark.resultiterable.ResultIterable at 0x7ff6bd4fa910>),\n",
              " ('HealthcentralCom_19991108_S-1A_EX-10.27_6623292_EX-10.27_Co-Branding Agreement.pdf',\n",
              "  <pyspark.resultiterable.ResultIterable at 0x7ff6bd4fac50>),\n",
              " ('ImpresseCorp_20000322_S-1A_EX-10.11_5199234_EX-10.11_Co-Branding Agreement.pdf',\n",
              "  <pyspark.resultiterable.ResultIterable at 0x7ff6bd4fafd0>),\n",
              " ('InvendaCorp_20000828_S-1A_EX-10.2_2588206_EX-10.2_Co-Branding Agreement.pdf',\n",
              "  <pyspark.resultiterable.ResultIterable at 0x7ff6bd501310>),\n",
              " ('LeadersonlineInc_20000427_S-1A_EX-10.8_4991089_EX-10.8_Co-Branding Agreement.pdf',\n",
              "  <pyspark.resultiterable.ResultIterable at 0x7ff6bd5016d0>),\n",
              " ('RaeSystemsInc_20001114_10-Q_EX-10.57_2631790_EX-10.57_Co-Branding Agreement.pdf',\n",
              "  <pyspark.resultiterable.ResultIterable at 0x7ff6bd5019d0>),\n",
              " ('TheglobeComInc_19990503_S-1A_EX-10.20_5416126_EX-10.20_Co-Branding Agreement.pdf',\n",
              "  <pyspark.resultiterable.ResultIterable at 0x7ff6bd501ed0>)]"
            ]
          },
          "metadata": {},
          "execution_count": 110
        }
      ]
    },
    {
      "cell_type": "code",
      "source": [
        "#group word score by filename\n",
        "AAkeywords = aaDocList.flatMapValues(keywordMap)\\\n",
        "                  .map(lambda x:((x[0],x[1][0]),x[1][1]))\\\n",
        "                  .reduceByKey(lambda x,y:(x[0]+y[0],x[1]+y[1]))\\\n",
        "                  .map(lambda x:(x[0][0],(x[0][1],x[1])))\\\n",
        "                  .map(lambda x:(x[0],(x[1][0],x[1][1][0]/x[1][1][0]))).groupByKey()\n",
        "AAkeywords.take(5)"
      ],
      "metadata": {
        "colab": {
          "base_uri": "https://localhost:8080/"
        },
        "id": "-2jamGrmBkDL",
        "outputId": "3d78b6e5-d968-43df-a40d-ca9dc18abe39"
      },
      "execution_count": 111,
      "outputs": [
        {
          "output_type": "execute_result",
          "data": {
            "text/plain": [
              "[('IdeanomicsInc_20160330_10-K_EX-10.26_9512211_EX-10.26_Content License Agreement.pdf',\n",
              "  <pyspark.resultiterable.ResultIterable at 0x7ff6bec07850>),\n",
              " ('DeltathreeInc_19991102_S-1A_EX-10.19_6227850_EX-10.19_Co-Branding Agreement_ Service Agreement.pdf',\n",
              "  <pyspark.resultiterable.ResultIterable at 0x7ff6bd716b90>),\n",
              " ('ConformisInc_20191101_10-Q_EX-10.6_11861402_EX-10.6_Development Agreement.pdf',\n",
              "  <pyspark.resultiterable.ResultIterable at 0x7ff6bd4cc090>),\n",
              " ('EtonPharmaceuticalsInc_20191114_10-Q_EX-10.1_11893941_EX-10.1_Development Agreement.pdf',\n",
              "  <pyspark.resultiterable.ResultIterable at 0x7ff6bf107f10>),\n",
              " ('FuelcellEnergyInc_20191106_8-K_EX-10.1_11868007_EX-10.1_Development Agreement.pdf',\n",
              "  <pyspark.resultiterable.ResultIterable at 0x7ff6bd4c9c50>)]"
            ]
          },
          "metadata": {},
          "execution_count": 111
        }
      ]
    },
    {
      "cell_type": "code",
      "source": [
        "#group word score by filename\n",
        "CCkeywords = ccDocList.flatMapValues(keywordMap)\\\n",
        "                  .map(lambda x:((x[0],x[1][0]),x[1][1]))\\\n",
        "                  .reduceByKey(lambda x,y:(x[0]+y[0],x[1]+y[1]))\\\n",
        "                  .map(lambda x:(x[0][0],(x[0][1],x[1])))\\\n",
        "                  .map(lambda x:(x[0],(x[1][0],x[1][1][0]/x[1][1][0]))).groupByKey()\n",
        "CCkeywords.take(5)"
      ],
      "metadata": {
        "colab": {
          "base_uri": "https://localhost:8080/"
        },
        "id": "KA0vAHnFCDgr",
        "outputId": "1cd35d57-e708-41f1-b07d-b205775680e1"
      },
      "execution_count": 112,
      "outputs": [
        {
          "output_type": "execute_result",
          "data": {
            "text/plain": [
              "[('DeltathreeInc_19991102_S-1A_EX-10.19_6227850_EX-10.19_Co-Branding Agreement_ Service Agreement.pdf',\n",
              "  <pyspark.resultiterable.ResultIterable at 0x7ff6bd4eaf50>),\n",
              " ('ConformisInc_20191101_10-Q_EX-10.6_11861402_EX-10.6_Development Agreement.pdf',\n",
              "  <pyspark.resultiterable.ResultIterable at 0x7ff6bec25b10>),\n",
              " ('EtonPharmaceuticalsInc_20191114_10-Q_EX-10.1_11893941_EX-10.1_Development Agreement.pdf',\n",
              "  <pyspark.resultiterable.ResultIterable at 0x7ff6bd4ec350>),\n",
              " ('FuelcellEnergyInc_20191106_8-K_EX-10.1_11868007_EX-10.1_Development Agreement.pdf',\n",
              "  <pyspark.resultiterable.ResultIterable at 0x7ff6bd4f6090>),\n",
              " ('WaterNowInc_20191120_10-Q_EX-10.12_11900227_EX-10.12_Distributor Agreement.pdf',\n",
              "  <pyspark.resultiterable.ResultIterable at 0x7ff6bd504b10>)]"
            ]
          },
          "metadata": {},
          "execution_count": 112
        }
      ]
    },
    {
      "cell_type": "markdown",
      "source": [
        "# Workload One - Candidate Phrase Score Calculation"
      ],
      "metadata": {
        "id": "joKBgeA_z5ts"
      }
    },
    {
      "cell_type": "code",
      "source": [
        "#(doc,(phrase[],map[keyword,score]))\n",
        "#join phrases group to keyword map group for calculating phrase score\n",
        "govLawJoin = docList.join(keywords)\n",
        "govLawJoin.take(5)"
      ],
      "metadata": {
        "colab": {
          "base_uri": "https://localhost:8080/"
        },
        "id": "WAzzSZtXXVLa",
        "outputId": "d2f6dcbb-b415-415c-dbc9-90ec69de9c53"
      },
      "execution_count": 113,
      "outputs": [
        {
          "output_type": "execute_result",
          "data": {
            "text/plain": [
              "[('FulucaiProductionsLtd_20131223_10-Q_EX-10.9_8368347_EX-10.9_Content License Agreement.pdf',\n",
              "  (<pyspark.resultiterable.ResultIterable at 0x7ff6bd4ff590>,\n",
              "   <pyspark.resultiterable.ResultIterable at 0x7ff6bd4ff7d0>)),\n",
              " ('IdeanomicsInc_20160330_10-K_EX-10.26_9512211_EX-10.26_Content License Agreement.pdf',\n",
              "  (<pyspark.resultiterable.ResultIterable at 0x7ff6bd4ca910>,\n",
              "   <pyspark.resultiterable.ResultIterable at 0x7ff6bd4ffd10>)),\n",
              " ('DeltathreeInc_19991102_S-1A_EX-10.19_6227850_EX-10.19_Co-Branding Agreement_ Service Agreement.pdf',\n",
              "  (<pyspark.resultiterable.ResultIterable at 0x7ff6bd6a7a50>,\n",
              "   <pyspark.resultiterable.ResultIterable at 0x7ff6bd6ab050>)),\n",
              " ('ConformisInc_20191101_10-Q_EX-10.6_11861402_EX-10.6_Development Agreement.pdf',\n",
              "  (<pyspark.resultiterable.ResultIterable at 0x7ff6bd4ff950>,\n",
              "   <pyspark.resultiterable.ResultIterable at 0x7ff6bd4fb3d0>)),\n",
              " ('EtonPharmaceuticalsInc_20191114_10-Q_EX-10.1_11893941_EX-10.1_Development Agreement.pdf',\n",
              "  (<pyspark.resultiterable.ResultIterable at 0x7ff6bd4fb750>,\n",
              "   <pyspark.resultiterable.ResultIterable at 0x7ff6bd4fba90>))]"
            ]
          },
          "metadata": {},
          "execution_count": 113
        }
      ]
    },
    {
      "cell_type": "code",
      "source": [
        "#join phrases group to keyword map group for calculating phrase score\n",
        "aaJoin = docListAa.join(AAkeywords)\n",
        "aaJoin.take(5)"
      ],
      "metadata": {
        "colab": {
          "base_uri": "https://localhost:8080/"
        },
        "id": "QntgT5VsCRNz",
        "outputId": "b3de1a5d-9061-4779-edf3-8e0c7277bcbe"
      },
      "execution_count": 114,
      "outputs": [
        {
          "output_type": "execute_result",
          "data": {
            "text/plain": [
              "[('IdeanomicsInc_20160330_10-K_EX-10.26_9512211_EX-10.26_Content License Agreement.pdf',\n",
              "  (<pyspark.resultiterable.ResultIterable at 0x7ff6bd6b2590>,\n",
              "   <pyspark.resultiterable.ResultIterable at 0x7ff6bd4ca750>)),\n",
              " ('DeltathreeInc_19991102_S-1A_EX-10.19_6227850_EX-10.19_Co-Branding Agreement_ Service Agreement.pdf',\n",
              "  (<pyspark.resultiterable.ResultIterable at 0x7ff6bd6b2710>,\n",
              "   <pyspark.resultiterable.ResultIterable at 0x7ff6bd7809d0>)),\n",
              " ('ConformisInc_20191101_10-Q_EX-10.6_11861402_EX-10.6_Development Agreement.pdf',\n",
              "  (<pyspark.resultiterable.ResultIterable at 0x7ff6bec25550>,\n",
              "   <pyspark.resultiterable.ResultIterable at 0x7ff6bd7b0ad0>)),\n",
              " ('EtonPharmaceuticalsInc_20191114_10-Q_EX-10.1_11893941_EX-10.1_Development Agreement.pdf',\n",
              "  (<pyspark.resultiterable.ResultIterable at 0x7ff6bd6b2290>,\n",
              "   <pyspark.resultiterable.ResultIterable at 0x7ff6bd25be10>)),\n",
              " ('FuelcellEnergyInc_20191106_8-K_EX-10.1_11868007_EX-10.1_Development Agreement.pdf',\n",
              "  (<pyspark.resultiterable.ResultIterable at 0x7ff6bd25bf10>,\n",
              "   <pyspark.resultiterable.ResultIterable at 0x7ff6bd25ec10>))]"
            ]
          },
          "metadata": {},
          "execution_count": 114
        }
      ]
    },
    {
      "cell_type": "code",
      "source": [
        "#join phrases group to keyword map group for calculating phrase score\n",
        "ccJoin = docListCc.join(CCkeywords)\n",
        "ccJoin.take(5)"
      ],
      "metadata": {
        "colab": {
          "base_uri": "https://localhost:8080/"
        },
        "id": "qdwnUFcUCb-U",
        "outputId": "3fec8f60-d266-4192-b78a-0c570c81b4ea"
      },
      "execution_count": 115,
      "outputs": [
        {
          "output_type": "execute_result",
          "data": {
            "text/plain": [
              "[('DeltathreeInc_19991102_S-1A_EX-10.19_6227850_EX-10.19_Co-Branding Agreement_ Service Agreement.pdf',\n",
              "  (<pyspark.resultiterable.ResultIterable at 0x7ff6bd6c3790>,\n",
              "   <pyspark.resultiterable.ResultIterable at 0x7ff6bd4ec310>)),\n",
              " ('ConformisInc_20191101_10-Q_EX-10.6_11861402_EX-10.6_Development Agreement.pdf',\n",
              "  (<pyspark.resultiterable.ResultIterable at 0x7ff6bd6c3d10>,\n",
              "   <pyspark.resultiterable.ResultIterable at 0x7ff6bd267050>)),\n",
              " ('EtonPharmaceuticalsInc_20191114_10-Q_EX-10.1_11893941_EX-10.1_Development Agreement.pdf',\n",
              "  (<pyspark.resultiterable.ResultIterable at 0x7ff6bd268310>,\n",
              "   <pyspark.resultiterable.ResultIterable at 0x7ff6bd2688d0>)),\n",
              " ('FuelcellEnergyInc_20191106_8-K_EX-10.1_11868007_EX-10.1_Development Agreement.pdf',\n",
              "  (<pyspark.resultiterable.ResultIterable at 0x7ff6bd6c3750>,\n",
              "   <pyspark.resultiterable.ResultIterable at 0x7ff6bd269c90>)),\n",
              " ('WaterNowInc_20191120_10-Q_EX-10.12_11900227_EX-10.12_Distributor Agreement.pdf',\n",
              "  (<pyspark.resultiterable.ResultIterable at 0x7ff6bd26ac10>,\n",
              "   <pyspark.resultiterable.ResultIterable at 0x7ff6bd26b610>))]"
            ]
          },
          "metadata": {},
          "execution_count": 115
        }
      ]
    },
    {
      "cell_type": "markdown",
      "source": [
        "The below three code blocks are trial and error blocks used to test code that id used to create the function generateCandidateList().The functionalities tested are\n",
        "\n",
        "1. converting resultIterable to list\n",
        "2. converting resultIterable to Map\n",
        "3. calculating scire for each phrase returned in block one to return a RDD with tuples containing phrase and score as a key-value pair"
      ],
      "metadata": {
        "id": "Uv_5KwAA5v9r"
      }
    },
    {
      "cell_type": "code",
      "source": [
        "#extracting phrases list from first RDD element\n",
        "l = list(govLawJoin.collect()[0][1][0])\n",
        "rddForList = sc.parallelize(l)\n",
        "pList = rddForList.collect()\n",
        "pList"
      ],
      "metadata": {
        "colab": {
          "base_uri": "https://localhost:8080/"
        },
        "id": "dnVveSwZaKBe",
        "outputId": "bc7d6d08-05a0-4eb6-d746-c2b33ec61d7d"
      },
      "execution_count": 116,
      "outputs": [
        {
          "output_type": "execute_result",
          "data": {
            "text/plain": [
              "['questions',\n",
              " 'respect',\n",
              " 'construction',\n",
              " 'agreement',\n",
              " 'rights',\n",
              " 'liabilities',\n",
              " 'parties hereto',\n",
              " 'governed',\n",
              " 'laws',\n",
              " 'state',\n",
              " 'florida']"
            ]
          },
          "metadata": {},
          "execution_count": 116
        }
      ]
    },
    {
      "cell_type": "code",
      "source": [
        "#extracting keyword map from first RDD element\n",
        "t = list(govLawJoin.collect()[0][1][1])\n",
        "rddForTuplelist = sc.parallelize(t)\n",
        "kMap = rddForTuplelist.collectAsMap()\n",
        "kMap"
      ],
      "metadata": {
        "colab": {
          "base_uri": "https://localhost:8080/"
        },
        "id": "kz-9UZtPaeTH",
        "outputId": "13bcea51-464b-4418-8b6d-b43aaba0f1fc"
      },
      "execution_count": 117,
      "outputs": [
        {
          "output_type": "execute_result",
          "data": {
            "text/plain": [
              "{'agreement': 1.0,\n",
              " 'construction': 1.0,\n",
              " 'florida': 1.0,\n",
              " 'governed': 1.0,\n",
              " 'hereto': 1.0,\n",
              " 'laws': 1.0,\n",
              " 'liabilities': 1.0,\n",
              " 'parties': 1.0,\n",
              " 'questions': 1.0,\n",
              " 'respect': 1.0,\n",
              " 'rights': 1.0,\n",
              " 'state': 1.0}"
            ]
          },
          "metadata": {},
          "execution_count": 117
        }
      ]
    },
    {
      "cell_type": "code",
      "source": [
        "#calculating candidate scores for first RDD element\n",
        "scores = []\n",
        "score = 0\n",
        "for p in pList:\n",
        "  score = 0\n",
        "  words = p.split(\" \")\n",
        "  for w in words:\n",
        "    score = score + kMap[w]\n",
        "  scores.append((p,score))\n",
        "scoreRDD = sc.parallelize(scores).sortBy(lambda x:-x[1])"
      ],
      "metadata": {
        "id": "b3LvTgYub1xj"
      },
      "execution_count": 118,
      "outputs": []
    },
    {
      "cell_type": "markdown",
      "source": [
        "function **generateCandidateList()**:the function takes the key-value pair with a phrase list ResultIterable as key and the word scores ResultIterable as value.The return value for this function is a list of tuples containg the candidate phrases and their repective scores sorted in the desending order of the score."
      ],
      "metadata": {
        "id": "Pb71T0tG6f-0"
      }
    },
    {
      "cell_type": "code",
      "source": [
        "#calculating candidate scores for each document\n",
        "def generateCandidateList(pair):\n",
        "  ph_list,kw_map = pair[0],pair[1]\n",
        "  pList = list(ph_list) \n",
        "  kMap = {x[0]:x[1] for x in list(kw_map)}\n",
        "  scores = {}\n",
        "  score = 0\n",
        "  for p in pList:\n",
        "    score = 0\n",
        "    words = list(filter(lambda x:x,p.split(\" \")))\n",
        "    for w in words:\n",
        "        score = score + kMap[w]\n",
        "    scores[p] = score\n",
        "    scoreArr = [(x[0],x[1]) for x in list(scores.items())]\n",
        "    scoreArr.sort(key=lambda x:-x[1])\n",
        "  return scoreArr\n"
      ],
      "metadata": {
        "id": "s8CeDrrrgERW"
      },
      "execution_count": 119,
      "outputs": []
    },
    {
      "cell_type": "markdown",
      "source": [
        "# Workload One - Keyword Identification"
      ],
      "metadata": {
        "id": "B964DWT_0iDT"
      }
    },
    {
      "cell_type": "markdown",
      "source": [
        "function **assignEdfRdf()** : this function created to calculate the *edf* and *rdf* of every candidate phrase that constitutes the corpus. It takes the candidate phrase scores map as input and returns a list of tuples with the key element as the phrase. The rdf value is set to 1 for each phrase and the edf value is set as 1 if index value of the phrase in the sorted phrase list is less than 4 to signify that the candidate phrase is selected as a extracted phrase for having a score in the top 4 of the phrases that were selected as cadidate phrases for the document.\n",
        "\n",
        "This function is applied as a map functions on the RDD that is grouped by filename hence the edf and rdf values are assigned seperately for each document in the corpus. When reduce is applied on these values the final rdf and edf is calculated for the entire corpus."
      ],
      "metadata": {
        "id": "-hr0h8hqFXHO"
      }
    },
    {
      "cell_type": "code",
      "source": [
        "#calculating rdf and edf for all candidate phrases\n",
        "def assignRdfEdf(doc):\n",
        "  k_words = doc\n",
        "  for i in range(len(k_words)):\n",
        "    if i < 4 :\n",
        "      k_words[i] = (k_words[i][0],1,1)\n",
        "    else:\n",
        "      k_words[i] = (k_words[i][0],1,0)\n",
        "  return k_words"
      ],
      "metadata": {
        "id": "B2cr417Y0fdS"
      },
      "execution_count": 120,
      "outputs": []
    },
    {
      "cell_type": "code",
      "source": [
        "govLawJoin.mapValues(generateCandidateList).take(3)"
      ],
      "metadata": {
        "colab": {
          "base_uri": "https://localhost:8080/"
        },
        "id": "SCppfNHfTN_l",
        "outputId": "6fcbf923-09b4-4444-d0c2-2ffbbc32d60d"
      },
      "execution_count": 121,
      "outputs": [
        {
          "output_type": "execute_result",
          "data": {
            "text/plain": [
              "[('FulucaiProductionsLtd_20131223_10-Q_EX-10.9_8368347_EX-10.9_Content License Agreement.pdf',\n",
              "  [('parties hereto', 2.0),\n",
              "   ('questions', 1.0),\n",
              "   ('respect', 1.0),\n",
              "   ('construction', 1.0),\n",
              "   ('agreement', 1.0),\n",
              "   ('rights', 1.0),\n",
              "   ('liabilities', 1.0),\n",
              "   ('governed', 1.0),\n",
              "   ('laws', 1.0),\n",
              "   ('state', 1.0),\n",
              "   ('florida', 1.0)]),\n",
              " ('IdeanomicsInc_20160330_10-K_EX-10.26_9512211_EX-10.26_Content License Agreement.pdf',\n",
              "  [('without giving effect', 3.0),\n",
              "   ('new york', 2.0),\n",
              "   ('laws principles', 2.0),\n",
              "   ('agreement', 1.0),\n",
              "   ('governed', 1.0),\n",
              "   ('construed', 1.0),\n",
              "   ('respects', 1.0),\n",
              "   ('accordance', 1.0),\n",
              "   ('laws', 1.0),\n",
              "   ('state', 1.0),\n",
              "   ('conflicts', 1.0)]),\n",
              " ('DeltathreeInc_19991102_S-1A_EX-10.19_6227850_EX-10.19_Co-Branding Agreement_ Service Agreement.pdf',\n",
              "  [('without giving effect', 3.0),\n",
              "   ('laws principles thereof', 3.0),\n",
              "   ('new york', 2.0),\n",
              "   ('agreement', 1.0),\n",
              "   ('governed', 1.0),\n",
              "   ('construed', 1.0),\n",
              "   ('accordance', 1.0),\n",
              "   ('laws', 1.0),\n",
              "   ('state', 1.0),\n",
              "   ('conflict', 1.0)])]"
            ]
          },
          "metadata": {},
          "execution_count": 121
        }
      ]
    },
    {
      "cell_type": "markdown",
      "source": [
        "# Workload One - Essentiality Score Calculation and Final Results"
      ],
      "metadata": {
        "id": "BtzT3GtI0rWZ"
      }
    },
    {
      "cell_type": "markdown",
      "source": [
        "The three blocks below return the final result of method 1\n",
        "the actions performed are\n",
        "1. generating candidate score based on the values given by the RDD join\n",
        "2. assign values of rdf and edf to each phrases\n",
        "3. As we dont need the filename any more, the tuple format is changed from (filename,(phrase,rdf,edf)) to (phrase,rdf,edf)\n",
        "4. In order to apply reduce on the value part of the tuple the tuple structure is changed to (phrase,(rdf,edf))\n",
        "5. reduce is applied to the rdf and edf values to calculate final values for each phrase\n",
        "6. ess is calculated for each phrase\n",
        "7. RDD os sorted based on ess calculated\n",
        "8. Top 20 phrases are shown along with their respective rdf,edf,ess values"
      ],
      "metadata": {
        "id": "JuhnfpC37kCW"
      }
    },
    {
      "cell_type": "markdown",
      "source": [
        "**FINAL RESULTS ARE DISPLAYED IN THE FORMAT: (Candidate Phrase,(rdf,edf),ess))**"
      ],
      "metadata": {
        "id": "ZltVvLGK-YXD"
      }
    },
    {
      "cell_type": "code",
      "source": [
        "#top 20 keywords for Government Law corpus\n",
        "CorpusMapGl = govLawJoin.mapValues(generateCandidateList)\\\n",
        "                  .mapValues(assignRdfEdf)\\\n",
        "                  .flatMap(lambda x:(x[1]))\\\n",
        "                  .map(lambda x:(x[0],(x[1],x[2])))\\\n",
        "                  .reduceByKey(lambda x,y:(x[0]+y[0],x[1]+y[1]))\\\n",
        "                  .mapValues(lambda x:(x,(x[1]*x[1])/x[0])).sortBy(lambda x:-x[1][1])\n",
        "CorpusMapGl.take(20)"
      ],
      "metadata": {
        "colab": {
          "base_uri": "https://localhost:8080/"
        },
        "id": "Ii9v1Jbh_YSC",
        "outputId": "b50e9eba-e272-4e78-d39a-3a056d722f42"
      },
      "execution_count": 122,
      "outputs": [
        {
          "output_type": "execute_result",
          "data": {
            "text/plain": [
              "[('agreement', ((398, 244), 149.58793969849245)),\n",
              " ('governed', ((359, 141), 55.37883008356546)),\n",
              " ('new york', ((76, 61), 48.96052631578947)),\n",
              " ('without regard', ((69, 53), 40.710144927536234)),\n",
              " ('without giving effect', ((38, 38), 38.0)),\n",
              " ('construed', ((258, 77), 22.98062015503876)),\n",
              " ('laws principles', ((34, 27), 21.441176470588236)),\n",
              " ('without reference', ((25, 23), 21.16)),\n",
              " ('united states', ((23, 20), 17.391304347826086)),\n",
              " ('law principles', ((40, 26), 16.9)),\n",
              " ('substantive laws', ((20, 18), 16.2)),\n",
              " ('internal laws', ((23, 19), 15.695652173913043)),\n",
              " ('laws provisions', ((17, 16), 15.058823529411764)),\n",
              " ('law provisions', ((19, 16), 13.473684210526315)),\n",
              " ('parties hereto', ((13, 12), 11.076923076923077)),\n",
              " ('law rules', ((22, 15), 10.227272727272727)),\n",
              " ('new york without regard', ((10, 10), 10.0)),\n",
              " ('performed entirely within', ((9, 9), 9.0)),\n",
              " ('laws provisions thereof', ((8, 8), 8.0)),\n",
              " ('performed wholly within', ((8, 8), 8.0))]"
            ]
          },
          "metadata": {},
          "execution_count": 122
        }
      ]
    },
    {
      "cell_type": "markdown",
      "source": [
        "**FINAL RESULTS ARE DISPLAYED IN THE FORMAT: (Candidate Phrase,(rdf,edf),ess))**"
      ],
      "metadata": {
        "id": "2ZLCZ9b3_KW-"
      }
    },
    {
      "cell_type": "code",
      "source": [
        "#top 20 keywords for Anti-Assignment corpus\n",
        "CorpusMapAA = aaJoin.mapValues(generateCandidateList).mapValues(assignRdfEdf).flatMap(lambda x:(x[1])).map(lambda x:(x[0],(x[1],x[2]))).reduceByKey(lambda x,y:(x[0]+y[0],x[1]+y[1])).mapValues(lambda x:(x,(x[1]*x[1])/x[0])).sortBy(lambda x:-x[1][1])\n",
        "CorpusMapAA.take(20)"
      ],
      "metadata": {
        "colab": {
          "base_uri": "https://localhost:8080/"
        },
        "id": "IvfoN36OCvJM",
        "outputId": "4ca5921c-ba74-424e-91ca-12662ebbe9ef"
      },
      "execution_count": 123,
      "outputs": [
        {
          "output_type": "execute_result",
          "data": {
            "text/plain": [
              "[('prior written consent', ((236, 217), 199.52966101694915)),\n",
              " ('neither party may assign', ((58, 58), 58.0)),\n",
              " ('either party without', ((38, 36), 34.10526315789474)),\n",
              " ('either party may assign', ((26, 26), 26.0)),\n",
              " ('agreement may', ((50, 36), 25.92)),\n",
              " ('neither party', ((51, 36), 25.41176470588235)),\n",
              " ('agreement without', ((73, 36), 17.753424657534246)),\n",
              " ('obligations hereunder without', ((20, 18), 16.2)),\n",
              " ('party may assign', ((18, 17), 16.055555555555557)),\n",
              " ('third party without', ((17, 16), 15.058823529411764)),\n",
              " ('written consent', ((39, 23), 13.564102564102564)),\n",
              " ('express prior written consent', ((13, 13), 13.0)),\n",
              " ('binding upon', ((26, 18), 12.461538461538462)),\n",
              " ('prior written approval', ((14, 13), 12.071428571428571)),\n",
              " ('express written consent', ((13, 12), 11.076923076923077)),\n",
              " ('parties hereto', ((14, 11), 8.642857142857142)),\n",
              " ('unreasonably withheld', ((87, 25), 7.183908045977011)),\n",
              " ('otherwise transfer', ((33, 15), 6.818181818181818)),\n",
              " ('respective successors', ((18, 11), 6.722222222222222)),\n",
              " ('reasonable business discretion', ((5, 5), 5.0))]"
            ]
          },
          "metadata": {},
          "execution_count": 123
        }
      ]
    },
    {
      "cell_type": "markdown",
      "source": [
        "**FINAL RESULTS ARE DISPLAYED IN THE FORMAT: (Candidate Phrase,(rdf,edf),ess))**"
      ],
      "metadata": {
        "id": "bD0hJTYR_Mdz"
      }
    },
    {
      "cell_type": "code",
      "source": [
        "#top 20 keywords for change of control corpus\n",
        "CorpusMapCC = ccJoin.mapValues(generateCandidateList).mapValues(assignRdfEdf).flatMap(lambda x:(x[1])).map(lambda x:(x[0],(x[1],x[2]))).reduceByKey(lambda x,y:(x[0]+y[0],x[1]+y[1])).mapValues(lambda x:(x,(x[1]*x[1])/x[0])).sortBy(lambda x:-x[1][1])\n",
        "CorpusMapCC.take(20)"
      ],
      "metadata": {
        "colab": {
          "base_uri": "https://localhost:8080/"
        },
        "id": "KRRNqkvWC9ET",
        "outputId": "80c472cb-6072-4ded-b307-957d83075bd9"
      },
      "execution_count": 124,
      "outputs": [
        {
          "output_type": "execute_result",
          "data": {
            "text/plain": [
              "[('prior written consent', ((17, 14), 11.529411764705882)),\n",
              " ('control occurs', ((3, 3), 3.0)),\n",
              " ('licensor may terminate', ((3, 3), 3.0)),\n",
              " ('provide written notice', ((4, 3), 2.25)),\n",
              " ('days written notice', ((4, 3), 2.25)),\n",
              " ('surviving entity acquires', ((2, 2), 2.0)),\n",
              " ('agreement upon written notice', ((2, 2), 2.0)),\n",
              " ('providing written notice', ((2, 2), 2.0)),\n",
              " ('substantial change', ((2, 2), 2.0)),\n",
              " ('automatically terminate upon', ((2, 2), 2.0)),\n",
              " ('material change', ((2, 2), 2.0)),\n",
              " ('without limiting', ((2, 2), 2.0)),\n",
              " ('terminated upon', ((2, 2), 2.0)),\n",
              " ('authority granted hereunder', ((2, 2), 2.0)),\n",
              " ('received notice', ((2, 2), 2.0)),\n",
              " ('party may assign', ((2, 2), 2.0)),\n",
              " ('interest expressly assumes', ((2, 2), 2.0)),\n",
              " ('party may terminate', ((2, 2), 2.0)),\n",
              " ('either party may', ((2, 2), 2.0)),\n",
              " ('either party may terminate', ((2, 2), 2.0))]"
            ]
          },
          "metadata": {},
          "execution_count": 124
        }
      ]
    },
    {
      "cell_type": "markdown",
      "source": [
        "# Workload Two - Candidate Phrase Identification & word score calculation"
      ],
      "metadata": {
        "id": "aejiHDNX-Fxr"
      }
    },
    {
      "cell_type": "markdown",
      "source": [
        "The three cells below extract the text values from each RDD because all phrases in one column are treated as a single document."
      ],
      "metadata": {
        "id": "rdkv70cF-yLb"
      }
    },
    {
      "cell_type": "code",
      "source": [
        "#function 2\n",
        "#extracting data for Government law document\n",
        "governmentLawDoc = rddGovernmentLaw.map(lambda x:x[1])\n",
        "governmentLawDoc.take(3)"
      ],
      "metadata": {
        "colab": {
          "base_uri": "https://localhost:8080/"
        },
        "id": "uyHrA4ZV7DrR",
        "outputId": "a2875866-192c-408b-8de0-e71d39eafe88"
      },
      "execution_count": 125,
      "outputs": [
        {
          "output_type": "execute_result",
          "data": {
            "text/plain": [
              "['This Agreement is accepted by Company in the State of Nevada and shall be governed by and construed in accordance with the laws thereof, which laws shall prevail in the event of any conflict. (Page 13)',\n",
              " 'This Agreement shall be governed by laws of the Province of Ontario and the federal laws of Canada applicable therein. (Page 9)  This Agreement is subject to all laws, regulations, license conditions and decisions of the Canadian Radio-television and Telecommunications Commission (‚ÄúCRTC‚Äù) municipal, provincial and federal governments or other authorities which are applicable to Rogers and/or Licensor, and which are now in force or hereafter adopted (‚ÄúApplicable Law‚Äù). (Page 11)',\n",
              " 'All questions with respect to the construction of this Agreement, and the rights and liabilities of the Parties hereto, shall be governed by the laws of the State of Florida. (Page 6)']"
            ]
          },
          "metadata": {},
          "execution_count": 125
        }
      ]
    },
    {
      "cell_type": "code",
      "source": [
        "#function 2\n",
        "#extracting data for Anti assignment document\n",
        "antiAssignmentDoc = rddAntiAssignment.map(lambda row:row[2])\n",
        "antiAssignmentDoc.take(3)"
      ],
      "metadata": {
        "id": "HZGgBXs-728E",
        "colab": {
          "base_uri": "https://localhost:8080/"
        },
        "outputId": "f094a288-ef66-4b3d-c0ac-fdfdcd3c9446"
      },
      "execution_count": 126,
      "outputs": [
        {
          "output_type": "execute_result",
          "data": {
            "text/plain": [
              "['MA may not assign, sell, lease or otherwise transfer in whole or in party any of the rights granted pursuant to this Agreement without prior written approval of Company. (Page 12)',\n",
              " 'This Agreement may not be assigned, sold or transferred without the prior written consent of the other party. (Page 9)  Notwithstanding the foregoing, Rogers may, without consent, assign its rights and obligations under this Agreement in whole or in part to: (i) a person that directly or indirectly controls, is controlled by or is under common control with Rogers; or (ii) a purchaser of all or substantially all of the assets used in connection with the ROD Service. A change of control of Rogers shall not be considered an assignment of this Agreement. (Page 9)  Any purported assignment, sale, or transfer in contravention of this Section shall be null and void. (Page 9)',\n",
              " \"Licensee shall not assign or otherwise transfer any of its rights, or delegate or otherwise transfer any of its obligations or performance, under this Agreement, in each case whether voluntarily, involuntarily, by operation of law or otherwise, without Licensor's prior written consent. (Page 15)  Any purported assignment, delegation or transfer in violation of this Section 11.7 is void from the outset and shall be of no force or effect. (Page 15)\"]"
            ]
          },
          "metadata": {},
          "execution_count": 126
        }
      ]
    },
    {
      "cell_type": "code",
      "source": [
        "#function 2\n",
        "#extracting data for Change of Control document\n",
        "changeOfControlDoc = rddAntiAssignment.map(lambda row:row[1])\n",
        "changeOfControlDoc.take(3)"
      ],
      "metadata": {
        "id": "Go4O6K1j7k9f",
        "colab": {
          "base_uri": "https://localhost:8080/"
        },
        "outputId": "ed21c8d1-f469-41c2-b78e-0ba3b1b2adf8"
      },
      "execution_count": 127,
      "outputs": [
        {
          "output_type": "execute_result",
          "data": {
            "text/plain": [
              "['',\n",
              " '',\n",
              " \"For purposes of the preceding sentence, and without limiting its generality, any merger, consolidation or reorganization involving Licensee (regardless of whether Licensee is a surviving or disappearing entity) will be deemed to be a transfer of rights, obligations or performance under this Agreement for which Licensor's prior written consent is required. (Page 15)\"]"
            ]
          },
          "metadata": {},
          "execution_count": 127
        }
      ]
    },
    {
      "cell_type": "markdown",
      "source": [
        "The below 2 blocks complete implementation for the government Law document.\n",
        "The first block does the following actions:\n",
        "1. changing all text to lower case\n",
        "2. extract all candidate phrases from the text\n",
        "3. calculate deg(w) and feq(w) based on the candidate phrases\n",
        "4. reduce function for calculating final deg(w) and feq(w) for each word\n",
        "5. calculate final deg(w)/feq(w)\n",
        "6. sort deg(w)/feq(w) in desending order\n",
        "\n",
        "\n"
      ],
      "metadata": {
        "id": "7q0Fgwm6_RYY"
      }
    },
    {
      "cell_type": "code",
      "source": [
        "#function 2\n",
        "#extracting phrrases and keyword scores \n",
        "glPhrases = governmentLawDoc.map(lambda x:x.lower()).flatMap(splitPhrase)\n",
        "GovLawKeywordMapRDD = glPhrases.flatMap(keywordMap)\\\n",
        "                      .reduceByKey(lambda x,y:(x[0]+y[0],x[1]+y[1]))\\\n",
        "                      .map(lambda word:(word[0],word[1][0]/word[1][1]))\\\n",
        "                      .sortBy(lambda x:-x[1])"
      ],
      "metadata": {
        "id": "UXD8O-FGG46a"
      },
      "execution_count": 128,
      "outputs": []
    },
    {
      "cell_type": "code",
      "source": [
        "glPhrases.take(25)"
      ],
      "metadata": {
        "colab": {
          "base_uri": "https://localhost:8080/"
        },
        "id": "eIUx23fG2Bih",
        "outputId": "a8ee011b-3ecc-4133-ef9f-813f8cc0eefb"
      },
      "execution_count": 129,
      "outputs": [
        {
          "output_type": "execute_result",
          "data": {
            "text/plain": [
              "['agreement',\n",
              " 'accepted',\n",
              " 'company',\n",
              " 'state',\n",
              " 'nevada',\n",
              " 'governed',\n",
              " 'construed',\n",
              " 'accordance',\n",
              " 'laws thereof',\n",
              " 'laws',\n",
              " 'prevail',\n",
              " 'event',\n",
              " 'conflict',\n",
              " 'agreement',\n",
              " 'governed',\n",
              " 'laws',\n",
              " 'province',\n",
              " 'ontario',\n",
              " 'federal laws',\n",
              " 'canada applicable therein',\n",
              " 'agreement',\n",
              " 'subject',\n",
              " 'laws',\n",
              " 'regulations',\n",
              " 'license conditions']"
            ]
          },
          "metadata": {},
          "execution_count": 129
        }
      ]
    },
    {
      "cell_type": "code",
      "source": [
        "GovLawKeywordMapRDD.take(10)"
      ],
      "metadata": {
        "colab": {
          "base_uri": "https://localhost:8080/"
        },
        "id": "pGIcB10H2g43",
        "outputId": "f00e3ddd-2065-4e82-b049-f49d249f0c1b"
      },
      "execution_count": 130,
      "outputs": [
        {
          "output_type": "execute_result",
          "data": {
            "text/plain": [
              "[('payment', 4.0),\n",
              " ('systems', 4.0),\n",
              " ('following', 4.0),\n",
              " ('attorns', 4.0),\n",
              " ('practices', 4.0),\n",
              " ('independently', 4.0),\n",
              " ('private', 4.0),\n",
              " ('oftexas', 4.0),\n",
              " ('initiate', 4.0),\n",
              " ('data', 4.0)]"
            ]
          },
          "metadata": {},
          "execution_count": 130
        }
      ]
    },
    {
      "cell_type": "code",
      "source": [
        "#extracting phrrases and keyword scores \n",
        "ccPhrases = changeOfControlDoc.filter(lambda x:x).map(lambda x:x.lower()).flatMap(splitPhrase)\n",
        "changeControlKeywordMapRDD = ccPhrases.flatMap(keywordMap)\\\n",
        "                      .reduceByKey(lambda x,y:(x[0]+y[0],x[1]+y[1]))\\\n",
        "                      .map(lambda word:(word[0],word[1][0]/word[1][1]))\\\n",
        "                      .sortBy(lambda x:-x[1])"
      ],
      "metadata": {
        "id": "KfYkAEUm0rmB"
      },
      "execution_count": 131,
      "outputs": []
    },
    {
      "cell_type": "code",
      "source": [
        "ccPhrases.take(25)"
      ],
      "metadata": {
        "colab": {
          "base_uri": "https://localhost:8080/"
        },
        "id": "vSd7WGv92uJf",
        "outputId": "d13ec3e5-ca73-4bd4-ef7e-394e29a98dff"
      },
      "execution_count": 132,
      "outputs": [
        {
          "output_type": "execute_result",
          "data": {
            "text/plain": [
              "['purposes',\n",
              " 'preceding sentence',\n",
              " 'without limiting',\n",
              " 'generality',\n",
              " 'merger',\n",
              " 'consolidation',\n",
              " 'reorganization involving licensee',\n",
              " 'regardless',\n",
              " 'whether licensee',\n",
              " 'surviving',\n",
              " 'disappearing entity',\n",
              " 'deemed',\n",
              " 'transfer',\n",
              " 'rights',\n",
              " 'obligations',\n",
              " 'performance',\n",
              " 'agreement',\n",
              " 'licensor',\n",
              " 'prior written consent',\n",
              " 'required',\n",
              " 'term',\n",
              " 'agreement',\n",
              " 'effective',\n",
              " 'date first stated',\n",
              " 'continue']"
            ]
          },
          "metadata": {},
          "execution_count": 132
        }
      ]
    },
    {
      "cell_type": "code",
      "source": [
        "changeControlKeywordMapRDD.take(10)"
      ],
      "metadata": {
        "colab": {
          "base_uri": "https://localhost:8080/"
        },
        "id": "MLsRQ0mB220v",
        "outputId": "abb0d8fe-3788-446d-e8ee-fe175edb42a5"
      },
      "execution_count": 133,
      "outputs": [
        {
          "output_type": "execute_result",
          "data": {
            "text/plain": [
              "[('performed', 4.0),\n",
              " ('accruing', 4.0),\n",
              " ('breaching', 4.0),\n",
              " ('reynolds', 4.0),\n",
              " ('aside', 4.0),\n",
              " ('ncm�', 4.0),\n",
              " ('detail', 4.0),\n",
              " ('therefor', 4.0),\n",
              " ('exclusive', 4.0),\n",
              " ('call', 4.0)]"
            ]
          },
          "metadata": {},
          "execution_count": 133
        }
      ]
    },
    {
      "cell_type": "code",
      "source": [
        "#extracting phrrases and keyword scores \n",
        "aaPhrases = antiAssignmentDoc.filter(lambda x:x).map(lambda x:x.lower()).flatMap(splitPhrase)\n",
        "antiAssignmentKeywordMapRDD = aaPhrases.flatMap(keywordMap)\\\n",
        "                      .reduceByKey(lambda x,y:(x[0]+y[0],x[1]+y[1]))\\\n",
        "                      .map(lambda word:(word[0],word[1][0]/word[1][1]))\\\n",
        "                      .sortBy(lambda x:-x[1])"
      ],
      "metadata": {
        "id": "imYoF_v_Kte_"
      },
      "execution_count": 134,
      "outputs": []
    },
    {
      "cell_type": "code",
      "source": [
        "aaPhrases.take(25)"
      ],
      "metadata": {
        "colab": {
          "base_uri": "https://localhost:8080/"
        },
        "id": "-5j9ZAYO3DKo",
        "outputId": "6fdbb190-9772-4903-83eb-5637535a0bd6"
      },
      "execution_count": 135,
      "outputs": [
        {
          "output_type": "execute_result",
          "data": {
            "text/plain": [
              "['may',\n",
              " 'assign',\n",
              " 'sell',\n",
              " 'lease',\n",
              " 'otherwise transfer',\n",
              " 'whole',\n",
              " 'party',\n",
              " 'rights granted pursuant',\n",
              " 'company',\n",
              " 'agreement may',\n",
              " 'assigned',\n",
              " 'sold',\n",
              " 'transferred without',\n",
              " 'prior written consent',\n",
              " 'party',\n",
              " 'notwithstanding',\n",
              " 'foregoing',\n",
              " 'rogers may',\n",
              " 'without consent',\n",
              " 'assign',\n",
              " 'rights',\n",
              " 'obligations',\n",
              " 'agreement',\n",
              " 'whole',\n",
              " 'part']"
            ]
          },
          "metadata": {},
          "execution_count": 135
        }
      ]
    },
    {
      "cell_type": "code",
      "source": [
        "antiAssignmentKeywordMapRDD.take(10)"
      ],
      "metadata": {
        "colab": {
          "base_uri": "https://localhost:8080/"
        },
        "id": "K6P5Ecc23LF_",
        "outputId": "430c6918-3c58-470d-c5c1-6ce2d1496dac"
      },
      "execution_count": 136,
      "outputs": [
        {
          "output_type": "execute_result",
          "data": {
            "text/plain": [
              "[('limiting', 4.0),\n",
              " ('restrictions', 4.0),\n",
              " ('reynolds', 4.0),\n",
              " ('ncm�', 4.0),\n",
              " ('nfla', 4.0),\n",
              " ('whose', 4.0),\n",
              " ('primary', 4.0),\n",
              " ('entities', 4.0),\n",
              " ('thewritten', 4.0),\n",
              " ('moody', 4.0)]"
            ]
          },
          "metadata": {},
          "execution_count": 136
        }
      ]
    },
    {
      "cell_type": "markdown",
      "source": [
        "# Workload Two - Candidate Keyword Score Calculation and Final Results"
      ],
      "metadata": {
        "id": "7OjcjOuS5CQa"
      }
    },
    {
      "cell_type": "markdown",
      "source": [
        "The below blocks does the following actions:\n",
        "1. combines phrase List and the keyword scores into a tuple as a key value pair\n",
        "2. generate scores for all candidate phrases\n",
        "3. sort the result in decreasing order of scores\n",
        "4. print the top 20 candidate phrases from the final list\n"
      ],
      "metadata": {
        "id": "xgkmINn81Tyl"
      }
    },
    {
      "cell_type": "markdown",
      "source": [
        "**FINAL RESULTS ARE DISPLAYED IN THE FORMAT: (Candidate Phrase,score)**"
      ],
      "metadata": {
        "id": "3LyM8D2z-usj"
      }
    },
    {
      "cell_type": "code",
      "source": [
        "#top 20 keywords extracted from Government Law document\n",
        "\n",
        "#join\n",
        "GL_DOC = (glPhrases.collect(),GovLawKeywordMapRDD.collect())\n",
        "\n",
        "#calculating score for candidate phrases\n",
        "GL_SCORE = sc.parallelize(generateCandidateList(GL_DOC)).sortBy(lambda x:-x[1])\n",
        "GL_SCORE.take(20)"
      ],
      "metadata": {
        "colab": {
          "base_uri": "https://localhost:8080/"
        },
        "id": "bqbxw-FGDdwU",
        "outputId": "a170e446-e533-43b0-f472-28efcadd81d9"
      },
      "execution_count": 137,
      "outputs": [
        {
          "output_type": "execute_result",
          "data": {
            "text/plain": [
              "[('1 covering competition following', 14.5),\n",
              " ('payment data systems hereunder', 14.4),\n",
              " ('either party herein initiate', 13.45),\n",
              " ('met independently without reference', 13.244457013574662),\n",
              " ('1980 united nations convention', 12.412280701754387),\n",
              " ('intellectual property right applies', 11.952380952380953),\n",
              " ('general international business practices', 11.64102564102564),\n",
              " ('united states trademark act', 11.352756892230575),\n",
              " ('maryland without giving effect', 11.129508229963905),\n",
              " ('parties hereto expressly attorns', 11.002816901408451),\n",
              " ('pennsylvania without giving effect', 10.82068470055214),\n",
              " ('agreement takes effect upon', 10.720484026822055),\n",
              " ('german private international law', 10.685741088180112),\n",
              " ('massachusetts without giving effect', 10.59379394424962),\n",
              " ('intellectual property laws relevant', 10.58523884989812),\n",
              " ('new york without recourse', 10.581361775479422),\n",
              " ('delaware without giving effect', 10.532569454453702),\n",
              " ('nevada without giving effect', 10.479508229963907),\n",
              " ('illinois without giving effect', 10.424962775418452),\n",
              " ('laws ofthe state oftexas', 10.403053975948541)]"
            ]
          },
          "metadata": {},
          "execution_count": 137
        }
      ]
    },
    {
      "cell_type": "markdown",
      "source": [
        "**FINAL RESULTS ARE DISPLAYED IN THE FORMAT: (Candidate Phrase,score)**"
      ],
      "metadata": {
        "id": "Yu-RBD10_E5M"
      }
    },
    {
      "cell_type": "code",
      "source": [
        "#top 20 keywords extracted from Change of Control document\n",
        "\n",
        "#join\n",
        "CC_DOC = (ccPhrases.collect(),changeControlKeywordMapRDD.collect())\n",
        "\n",
        "#calculating score for candidate phrases\n",
        "CC_SCORE = sc.parallelize(generateCandidateList(CC_DOC)).sortBy(lambda x:-x[1])\n",
        "CC_SCORE.take(20)"
      ],
      "metadata": {
        "colab": {
          "base_uri": "https://localhost:8080/"
        },
        "id": "0WDLmH3vH7ff",
        "outputId": "86b62b6e-7379-43fe-9510-1f68b9facc01"
      },
      "execution_count": 138,
      "outputs": [
        {
          "output_type": "execute_result",
          "data": {
            "text/plain": [
              "[('vs key leadership position', 14.5),\n",
              " ('management team successfully completes', 13.833333333333332),\n",
              " ('ehave companion solution within', 12.475),\n",
              " ('required local advertising expenditures', 12.357142857142858),\n",
              " ('without thereby becoming liable', 12.3),\n",
              " ('reasonable detail based upon', 12.200980392156863),\n",
              " ('advertising agency representing tda', 12.133333333333335),\n",
              " ('providing ebix written notice', 12.073275862068964),\n",
              " ('set aside within ninety', 11.975),\n",
              " ('upon sending written notice', 11.899256254225829),\n",
              " ('provide prompt written notice', 11.83958020989505),\n",
              " ('dova hereunder whether accruing', 11.515151515151516),\n",
              " ('shareholder owning fifty percent', 11.505882352941178),\n",
              " ('total voting power represented', 11.502415458937199),\n",
              " ('04 exxonmobil may terminate', 11.469019274376416),\n",
              " ('reynolds group holdings limited', 11.411111111111111),\n",
              " ('providing prior written notice', 11.400198938992041),\n",
              " ('admit additional general partners', 11.333333333333334),\n",
              " ('without limiting article viii', 11.32857142857143),\n",
              " ('maintenance services performed prior', 11.176923076923076)]"
            ]
          },
          "metadata": {},
          "execution_count": 138
        }
      ]
    },
    {
      "cell_type": "markdown",
      "source": [
        "**FINAL RESULTS ARE DISPLAYED IN THE FORMAT: (Candidate Phrase,score)**"
      ],
      "metadata": {
        "id": "bIlmoB53_B6u"
      }
    },
    {
      "cell_type": "code",
      "source": [
        "#top 20 keywords extracted from Anti-Assignment document\n",
        "\n",
        "#join\n",
        "AA_DOC = (aaPhrases.collect(),antiAssignmentKeywordMapRDD.collect())\n",
        "\n",
        "#calculating score for candidate phrases\n",
        "AA_SCORE = sc.parallelize(generateCandidateList(AA_DOC)).sortBy(lambda x:-x[1])\n",
        "AA_SCORE.take(20)"
      ],
      "metadata": {
        "colab": {
          "base_uri": "https://localhost:8080/"
        },
        "id": "QMr3KJxMLFZf",
        "outputId": "a2fe077f-5903-4a51-f864-f1b0ea6bad5e"
      },
      "execution_count": 139,
      "outputs": [
        {
          "output_type": "execute_result",
          "data": {
            "text/plain": [
              "[('minimum net worth equal', 14.5),\n",
              " ('indirect loss thus caused', 14.444444444444445),\n",
              " ('restrictions set forth herein', 13.759090909090908),\n",
              " ('managing group may decide', 13.522942643391522),\n",
              " ('express prior written authorization', 13.344629439188262),\n",
              " ('expressly set forth herein', 12.605244755244755),\n",
              " ('exxon mobil corporation owns', 12.583333333333334),\n",
              " ('reynolds group holdings limited', 12.45),\n",
              " ('without limiting article viii', 12.374066040009641),\n",
              " ('nfla prior written consent', 12.360207051540067),\n",
              " ('otherwise create derivative works', 12.235135135135135),\n",
              " ('forty niners sc without', 12.218510484454086),\n",
              " ('taken together would constitute', 12.083333333333332),\n",
              " ('without first obtaining ginkgo�', 11.935177151120751),\n",
              " ('without first obtaining bp�', 11.935177151120751),\n",
              " ('take relevant breaching liability', 11.9),\n",
              " ('prior express written approval', 11.869629439188262),\n",
              " ('express prior written approval', 11.869629439188262),\n",
              " ('60 days� written notice', 11.801942959001783),\n",
              " ('cause forty niners sc', 11.733333333333334)]"
            ]
          },
          "metadata": {},
          "execution_count": 139
        }
      ]
    }
  ]
}